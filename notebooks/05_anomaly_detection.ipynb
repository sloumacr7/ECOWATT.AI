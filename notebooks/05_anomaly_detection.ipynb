from sklearn.ensemble import IsolationForest

# Fit an anomaly detection model
anomaly_model = IsolationForest(contamination=0.05)
anomaly_model.fit(data_scaled)

# Predict anomalies
anomalies = anomaly_model.predict(data_scaled)

# Visualize anomalies
plt.plot(data_scaled)
plt.scatter(range(len(anomalies)), anomalies, color='red', label="Anomalies")
plt.legend()
plt.show()
