# Feature extraction
def extract_features(data):
    # Extract rolling average as a feature
    rolling_avg = data.rolling(window=10).mean()

    # Extract peak consumption values
    peak_value = data.max(axis=1)
    
    return rolling_avg, peak_value

rolling_avg, peak_value = extract_features(data_scaled)

# Visualize extracted features
plt.plot(rolling_avg, label="Rolling Average")
plt.plot(peak_value, label="Peak Consumption")
plt.legend()
plt.show()
