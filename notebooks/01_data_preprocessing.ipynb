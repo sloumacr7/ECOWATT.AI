# Import necessary libraries
import pandas as pd
import numpy as np
import matplotlib.pyplot as plt
from sklearn.preprocessing import MinMaxScaler

# Load the dataset
data = pd.read_csv("path_to_data.csv")

# Explore data
print(data.head())

# Handle missing values
data = data.fillna(method='ffill')

# Normalize the data
scaler = MinMaxScaler()
data_scaled = scaler.fit_transform(data)

# Visualize the data
plt.plot(data_scaled)
plt.title("Energy Consumption Over Time")
plt.xlabel("Time")
plt.ylabel("Normalized Energy Consumption")
plt.show()
