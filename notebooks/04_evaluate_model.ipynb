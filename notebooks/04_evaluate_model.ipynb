# Import necessary libraries
from sklearn.metrics import mean_squared_error
import matplotlib.pyplot as plt

# Evaluate the model
predictions = model.predict(X_test)
mse = mean_squared_error(y_test, predictions)

# Visualize the results
plt.plot(y_test, label="True Values")
plt.plot(predictions, label="Predicted Values")
plt.legend()
plt.show()

print(f"Mean Squared Error: {mse}")
